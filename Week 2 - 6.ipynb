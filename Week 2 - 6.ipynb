{
 "cells": [
  {
   "cell_type": "code",
   "execution_count": 1,
   "id": "41c299b5",
   "metadata": {},
   "outputs": [
    {
     "name": "stdout",
     "output_type": "stream",
     "text": [
      "-----Amazon Textract has detected as follows-----\n",
      "Key: EMPLOYER/COMPANY/RECRUITMENT AGENCY (IF APPLICABLE):, Value: SHIP INC.\n",
      "Key: NATIONALITY:, Value: FILIPINO\n",
      "Key: SURNAME/LAST NAME:, Value: DEVLIN\n",
      "Key: MIDDLE NAME, Value: ISAACS\n",
      "Key: GIVEN NAME:, Value: JAMES\n",
      "Key: COUNTRY OF DESTINATION:, Value: MALTA\n",
      "Key: UNFIT, Value: NOT_SELECTED\n",
      "Key: FIT, Value: SELECTED\n",
      "Key: RELIGION:, Value: NONE\n",
      "Key: NO, Value: NOT_SELECTED\n",
      "Key: PASSPORT NUMBER:, Value: 1234567890\n",
      "Key: YES, Value: SELECTED\n",
      "Key: YES, Value: SELECTED\n",
      "Key: YES, Value: SELECTED\n",
      "Key: NO, Value: NOT_SELECTED\n",
      "Key: POSITION APPLIED FOR:, Value: EXECUTIVE ASSISTANT\n",
      "Key: NO, Value: NOT_SELECTED\n",
      "Key: PLACE OF BIRTH:, Value: MANILA\n",
      "Key: MARRIED, Value: NOT_SELECTED\n",
      "Key: AGE:, Value: 30\n",
      "Key: YES, Value: SELECTED\n",
      "Key: DATE:, Value: 25/9/2023\n",
      "Key: NO, Value: NOT_SELECTED\n",
      "Key: Name and Signature of Examining/Authorized Physician, Value: CLARK TONG a\n",
      "Key: Date of Examination:, Value: 25/9/2023\n",
      "Key: SINGLE, Value: SELECTED\n",
      "Key: NO, Value: SELECTED\n",
      "Key: YES, Value: NOT_SELECTED\n",
      "Key: FEMALE, Value: NOT_SELECTED\n",
      "Key: MALE, Value: SELECTED\n",
      "Key: ADDRESS:, Value: 7 RD. 22, PROJECT 8, QUEZON CITY, PHILIPPINES\n",
      "Key: MONTH, Value: 9\n",
      "Key: DAY, Value: 25\n",
      "Key: (NAME OF APPLICANT), Value: JAMES DEVLIN\n",
      "Key: YEAR, Value: 2023\n",
      "Key: YEAR, Value: 1993\n",
      "Key: APPLICANT'S NAME AND SIGNATURE:, Value: JAMES DEVLIN H OF THE EXAMINING PHYSICIAN)\n",
      "Key: MONTH, Value: 10\n",
      "Key: DAY, Value: 2\n",
      "Key: Medical Director, Value: by: & JOHN SMITH\n",
      "Key: OFFICIAL STAMP, Value: None\n",
      "Key: A.O. No., Value: 2013-0006\n",
      "Key: DATE OF EXPIRATION OF PEME CERTIFICATE:, Value: (Filling out this field is not mandatory.) DAY MONTH YEAR\n"
     ]
    }
   ],
   "source": [
    "import boto3\n",
    "from trp import Document\n",
    "\n",
    "bucketname = \"kadakareer1\"\n",
    "formname = \"Appendix A - Annex C MedCert - AO2013-0006.jpg\"\n",
    "\n",
    "module = boto3.client('textract')\n",
    "\n",
    "response = module.analyze_document(\n",
    "    Document = {\n",
    "        'S3Object': {\n",
    "            'Bucket': bucketname,\n",
    "            'Name': formname\n",
    "        }\n",
    "    }, FeatureTypes = [\"FORMS\"])\n",
    "doc = Document(response)\n",
    "\n",
    "n = open(\"Week 2 - 6.txt\", \"w\")\n",
    "x = '-----Amazon Textract has detected as follows-----'\n",
    "print(x)\n",
    "n.write(x)\n",
    "for page in doc.pages:\n",
    "    for field in page.form.fields:\n",
    "        y = \"Key: {}, Value: {}\".format(field.key, field.value)\n",
    "        print(y)\n",
    "        n.write(\"\\n\" + y)\n",
    "n.close()"
   ]
  },
  {
   "cell_type": "code",
   "execution_count": null,
   "id": "8bb6e6ff",
   "metadata": {},
   "outputs": [],
   "source": []
  }
 ],
 "metadata": {
  "kernelspec": {
   "display_name": "Python 3 (ipykernel)",
   "language": "python",
   "name": "python3"
  },
  "language_info": {
   "codemirror_mode": {
    "name": "ipython",
    "version": 3
   },
   "file_extension": ".py",
   "mimetype": "text/x-python",
   "name": "python",
   "nbconvert_exporter": "python",
   "pygments_lexer": "ipython3",
   "version": "3.10.9"
  }
 },
 "nbformat": 4,
 "nbformat_minor": 5
}
