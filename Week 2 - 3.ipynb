{
 "cells": [
  {
   "cell_type": "code",
   "execution_count": 1,
   "id": "d8f75a12",
   "metadata": {},
   "outputs": [
    {
     "name": "stdout",
     "output_type": "stream",
     "text": [
      "-----Amazon Textract has detected as follows-----\n",
      "Key: REACTIVE, Value: NOT_SELECTED\n",
      "Key: NONREACTIVE, Value: SELECTED\n",
      "Key: Name:, Value: JAMES DEVLIN\n",
      "Key: Particle Agglutination, Value: NOT_SELECTED\n",
      "Key: EIA / CMIA / ELFA, Value: NOT_SELECTED\n",
      "Key: Address:, Value: PASIG CITY\n",
      "Key: RAPID, Value: SELECTED\n",
      "Key: Pathologist, Value: DAVID CHAN\n",
      "Key: Expiry date, Value: 25/9/2024\n",
      "Key: Civil Status:, Value: SINGLE\n",
      "Key: HIV Proficiency Cert. No., Value: 5678701234\n",
      "Key: Sex:, Value: M\n",
      "Key: License No., Value: 4567890123\n",
      "Key: Age:, Value: 30\n",
      "Key: Date:, Value: 25/9/2023\n",
      "Key: Date of Medical Examination, Value: 25/9/2023\n",
      "Key: Examining Physician, Value: CLARK TONG\n",
      "Key: Medical Technologist, Value: JOHN SMITH\n",
      "Key: Others (specify), Value: None\n",
      "Key: A.O. No., Value: 2013-0006\n",
      "Key: has undergone screening test for HIV/Acquired Immunodeficiency Syndrome (AIDS), and was found to be Non-Reactive*/Reactive* based on laboratory test (HIV-1/HIV-2)., Value: JAMES DEVLIN\n",
      "Key: Picture, Value: None\n",
      "Key: Screening Test Used:, Value: (please check)\n",
      "Key: MFOWS-Annex I-HIVST, Value: 06/08/2011\n",
      "Key: ANNEX -, Value: I\n"
     ]
    }
   ],
   "source": [
    "import boto3\n",
    "from trp import Document\n",
    "\n",
    "bucketname = \"kadakareer1\"\n",
    "formname = \"final_Annex-I_HIV-Screening-Cert.jpg\"\n",
    "\n",
    "module = boto3.client('textract')\n",
    "\n",
    "response = module.analyze_document(\n",
    "    Document = {\n",
    "        'S3Object': {\n",
    "            'Bucket': bucketname,\n",
    "            'Name': formname\n",
    "        }\n",
    "    }, FeatureTypes = [\"FORMS\"])\n",
    "doc = Document(response)\n",
    "\n",
    "n = open(\"Week 2 - 3.txt\", \"w\")\n",
    "x = '-----Amazon Textract has detected as follows-----'\n",
    "print(x)\n",
    "n.write(x)\n",
    "for page in doc.pages:\n",
    "    for field in page.form.fields:\n",
    "        y = \"Key: {}, Value: {}\".format(field.key, field.value)\n",
    "        print(y)\n",
    "        n.write(\"\\n\" + y)\n",
    "n.close()"
   ]
  },
  {
   "cell_type": "code",
   "execution_count": null,
   "id": "80a2e314",
   "metadata": {},
   "outputs": [],
   "source": []
  }
 ],
 "metadata": {
  "kernelspec": {
   "display_name": "Python 3 (ipykernel)",
   "language": "python",
   "name": "python3"
  },
  "language_info": {
   "codemirror_mode": {
    "name": "ipython",
    "version": 3
   },
   "file_extension": ".py",
   "mimetype": "text/x-python",
   "name": "python",
   "nbconvert_exporter": "python",
   "pygments_lexer": "ipython3",
   "version": "3.10.9"
  }
 },
 "nbformat": 4,
 "nbformat_minor": 5
}
